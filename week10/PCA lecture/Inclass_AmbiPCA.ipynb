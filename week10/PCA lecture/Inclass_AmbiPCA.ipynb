{
  "nbformat": 4,
  "nbformat_minor": 0,
  "metadata": {
    "colab": {
      "provenance": [],
      "collapsed_sections": []
    },
    "kernelspec": {
      "name": "python3",
      "display_name": "Python 3"
    },
    "language_info": {
      "name": "python"
    }
  },
  "cells": [
    {
      "cell_type": "code",
      "execution_count": 2,
      "metadata": {
        "id": "7JvegsQHPBh0"
      },
      "outputs": [],
      "source": [
        "\"\"\"\n",
        "Created on Wed Sep 21 19:14:12 2022\n",
        "@author: Dr Ambi,\n",
        "\"\"\"\n",
        "\n",
        "from sklearn.datasets import fetch_openml\n",
        "import pickle\n",
        "import pandas as pd\n",
        "import numpy as np\n",
        "from sklearn.decomposition import PCA\n"
      ]
    },
    {
      "cell_type": "code",
      "source": [
        "#Sklearn Feature selection\n",
        "#https://scikit-learn.org/stable/modules/classes.html#module-sklearn.feature_selection\n",
        "#https://scikit-learn.org/stable/modules/feature_selection.html#feature-selection\n",
        "\n",
        "#https://scikit-learn.org/stable/modules/generated/sklearn.feature_selection.VarianceThreshold.html#sklearn.feature_selection.VarianceThreshold\n"
      ],
      "metadata": {
        "id": "vPYAcRe5lmQ7"
      },
      "execution_count": 3,
      "outputs": []
    },
    {
      "cell_type": "code",
      "source": [
        "digitsDataFirst100=pickle.load(open( \"digitsDataFirst100.p\", \"rb\" ) )\n",
        "targetFirst100=pickle.load(open( \"targetFirst100.p\", \"rb\" ) )"
      ],
      "metadata": {
        "id": "cefj542QR0pk"
      },
      "execution_count": 4,
      "outputs": []
    },
    {
      "cell_type": "code",
      "source": [
        "digitsData=digitsDataFirst100\n",
        "target=targetFirst100\n",
        "digitsData.head()\n"
      ],
      "metadata": {
        "colab": {
          "base_uri": "https://localhost:8080/",
          "height": 299
        },
        "id": "nmG_rZ6pR_JJ",
        "outputId": "dd8507a9-826c-408a-d946-9dafa38c6fcb"
      },
      "execution_count": 5,
      "outputs": [
        {
          "output_type": "execute_result",
          "data": {
            "text/plain": [
              "   pixel1  pixel2  pixel3  pixel4  pixel5  pixel6  pixel7  pixel8  pixel9  \\\n",
              "0     0.0     0.0     0.0     0.0     0.0     0.0     0.0     0.0     0.0   \n",
              "1     0.0     0.0     0.0     0.0     0.0     0.0     0.0     0.0     0.0   \n",
              "2     0.0     0.0     0.0     0.0     0.0     0.0     0.0     0.0     0.0   \n",
              "3     0.0     0.0     0.0     0.0     0.0     0.0     0.0     0.0     0.0   \n",
              "4     0.0     0.0     0.0     0.0     0.0     0.0     0.0     0.0     0.0   \n",
              "\n",
              "   pixel10  ...  pixel775  pixel776  pixel777  pixel778  pixel779  pixel780  \\\n",
              "0      0.0  ...       0.0       0.0       0.0       0.0       0.0       0.0   \n",
              "1      0.0  ...       0.0       0.0       0.0       0.0       0.0       0.0   \n",
              "2      0.0  ...       0.0       0.0       0.0       0.0       0.0       0.0   \n",
              "3      0.0  ...       0.0       0.0       0.0       0.0       0.0       0.0   \n",
              "4      0.0  ...       0.0       0.0       0.0       0.0       0.0       0.0   \n",
              "\n",
              "   pixel781  pixel782  pixel783  pixel784  \n",
              "0       0.0       0.0       0.0       0.0  \n",
              "1       0.0       0.0       0.0       0.0  \n",
              "2       0.0       0.0       0.0       0.0  \n",
              "3       0.0       0.0       0.0       0.0  \n",
              "4       0.0       0.0       0.0       0.0  \n",
              "\n",
              "[5 rows x 784 columns]"
            ],
            "text/html": [
              "\n",
              "  <div id=\"df-d949c602-59a4-44b6-a2eb-59d2ab7165e4\">\n",
              "    <div class=\"colab-df-container\">\n",
              "      <div>\n",
              "<style scoped>\n",
              "    .dataframe tbody tr th:only-of-type {\n",
              "        vertical-align: middle;\n",
              "    }\n",
              "\n",
              "    .dataframe tbody tr th {\n",
              "        vertical-align: top;\n",
              "    }\n",
              "\n",
              "    .dataframe thead th {\n",
              "        text-align: right;\n",
              "    }\n",
              "</style>\n",
              "<table border=\"1\" class=\"dataframe\">\n",
              "  <thead>\n",
              "    <tr style=\"text-align: right;\">\n",
              "      <th></th>\n",
              "      <th>pixel1</th>\n",
              "      <th>pixel2</th>\n",
              "      <th>pixel3</th>\n",
              "      <th>pixel4</th>\n",
              "      <th>pixel5</th>\n",
              "      <th>pixel6</th>\n",
              "      <th>pixel7</th>\n",
              "      <th>pixel8</th>\n",
              "      <th>pixel9</th>\n",
              "      <th>pixel10</th>\n",
              "      <th>...</th>\n",
              "      <th>pixel775</th>\n",
              "      <th>pixel776</th>\n",
              "      <th>pixel777</th>\n",
              "      <th>pixel778</th>\n",
              "      <th>pixel779</th>\n",
              "      <th>pixel780</th>\n",
              "      <th>pixel781</th>\n",
              "      <th>pixel782</th>\n",
              "      <th>pixel783</th>\n",
              "      <th>pixel784</th>\n",
              "    </tr>\n",
              "  </thead>\n",
              "  <tbody>\n",
              "    <tr>\n",
              "      <th>0</th>\n",
              "      <td>0.0</td>\n",
              "      <td>0.0</td>\n",
              "      <td>0.0</td>\n",
              "      <td>0.0</td>\n",
              "      <td>0.0</td>\n",
              "      <td>0.0</td>\n",
              "      <td>0.0</td>\n",
              "      <td>0.0</td>\n",
              "      <td>0.0</td>\n",
              "      <td>0.0</td>\n",
              "      <td>...</td>\n",
              "      <td>0.0</td>\n",
              "      <td>0.0</td>\n",
              "      <td>0.0</td>\n",
              "      <td>0.0</td>\n",
              "      <td>0.0</td>\n",
              "      <td>0.0</td>\n",
              "      <td>0.0</td>\n",
              "      <td>0.0</td>\n",
              "      <td>0.0</td>\n",
              "      <td>0.0</td>\n",
              "    </tr>\n",
              "    <tr>\n",
              "      <th>1</th>\n",
              "      <td>0.0</td>\n",
              "      <td>0.0</td>\n",
              "      <td>0.0</td>\n",
              "      <td>0.0</td>\n",
              "      <td>0.0</td>\n",
              "      <td>0.0</td>\n",
              "      <td>0.0</td>\n",
              "      <td>0.0</td>\n",
              "      <td>0.0</td>\n",
              "      <td>0.0</td>\n",
              "      <td>...</td>\n",
              "      <td>0.0</td>\n",
              "      <td>0.0</td>\n",
              "      <td>0.0</td>\n",
              "      <td>0.0</td>\n",
              "      <td>0.0</td>\n",
              "      <td>0.0</td>\n",
              "      <td>0.0</td>\n",
              "      <td>0.0</td>\n",
              "      <td>0.0</td>\n",
              "      <td>0.0</td>\n",
              "    </tr>\n",
              "    <tr>\n",
              "      <th>2</th>\n",
              "      <td>0.0</td>\n",
              "      <td>0.0</td>\n",
              "      <td>0.0</td>\n",
              "      <td>0.0</td>\n",
              "      <td>0.0</td>\n",
              "      <td>0.0</td>\n",
              "      <td>0.0</td>\n",
              "      <td>0.0</td>\n",
              "      <td>0.0</td>\n",
              "      <td>0.0</td>\n",
              "      <td>...</td>\n",
              "      <td>0.0</td>\n",
              "      <td>0.0</td>\n",
              "      <td>0.0</td>\n",
              "      <td>0.0</td>\n",
              "      <td>0.0</td>\n",
              "      <td>0.0</td>\n",
              "      <td>0.0</td>\n",
              "      <td>0.0</td>\n",
              "      <td>0.0</td>\n",
              "      <td>0.0</td>\n",
              "    </tr>\n",
              "    <tr>\n",
              "      <th>3</th>\n",
              "      <td>0.0</td>\n",
              "      <td>0.0</td>\n",
              "      <td>0.0</td>\n",
              "      <td>0.0</td>\n",
              "      <td>0.0</td>\n",
              "      <td>0.0</td>\n",
              "      <td>0.0</td>\n",
              "      <td>0.0</td>\n",
              "      <td>0.0</td>\n",
              "      <td>0.0</td>\n",
              "      <td>...</td>\n",
              "      <td>0.0</td>\n",
              "      <td>0.0</td>\n",
              "      <td>0.0</td>\n",
              "      <td>0.0</td>\n",
              "      <td>0.0</td>\n",
              "      <td>0.0</td>\n",
              "      <td>0.0</td>\n",
              "      <td>0.0</td>\n",
              "      <td>0.0</td>\n",
              "      <td>0.0</td>\n",
              "    </tr>\n",
              "    <tr>\n",
              "      <th>4</th>\n",
              "      <td>0.0</td>\n",
              "      <td>0.0</td>\n",
              "      <td>0.0</td>\n",
              "      <td>0.0</td>\n",
              "      <td>0.0</td>\n",
              "      <td>0.0</td>\n",
              "      <td>0.0</td>\n",
              "      <td>0.0</td>\n",
              "      <td>0.0</td>\n",
              "      <td>0.0</td>\n",
              "      <td>...</td>\n",
              "      <td>0.0</td>\n",
              "      <td>0.0</td>\n",
              "      <td>0.0</td>\n",
              "      <td>0.0</td>\n",
              "      <td>0.0</td>\n",
              "      <td>0.0</td>\n",
              "      <td>0.0</td>\n",
              "      <td>0.0</td>\n",
              "      <td>0.0</td>\n",
              "      <td>0.0</td>\n",
              "    </tr>\n",
              "  </tbody>\n",
              "</table>\n",
              "<p>5 rows × 784 columns</p>\n",
              "</div>\n",
              "      <button class=\"colab-df-convert\" onclick=\"convertToInteractive('df-d949c602-59a4-44b6-a2eb-59d2ab7165e4')\"\n",
              "              title=\"Convert this dataframe to an interactive table.\"\n",
              "              style=\"display:none;\">\n",
              "        \n",
              "  <svg xmlns=\"http://www.w3.org/2000/svg\" height=\"24px\"viewBox=\"0 0 24 24\"\n",
              "       width=\"24px\">\n",
              "    <path d=\"M0 0h24v24H0V0z\" fill=\"none\"/>\n",
              "    <path d=\"M18.56 5.44l.94 2.06.94-2.06 2.06-.94-2.06-.94-.94-2.06-.94 2.06-2.06.94zm-11 1L8.5 8.5l.94-2.06 2.06-.94-2.06-.94L8.5 2.5l-.94 2.06-2.06.94zm10 10l.94 2.06.94-2.06 2.06-.94-2.06-.94-.94-2.06-.94 2.06-2.06.94z\"/><path d=\"M17.41 7.96l-1.37-1.37c-.4-.4-.92-.59-1.43-.59-.52 0-1.04.2-1.43.59L10.3 9.45l-7.72 7.72c-.78.78-.78 2.05 0 2.83L4 21.41c.39.39.9.59 1.41.59.51 0 1.02-.2 1.41-.59l7.78-7.78 2.81-2.81c.8-.78.8-2.07 0-2.86zM5.41 20L4 18.59l7.72-7.72 1.47 1.35L5.41 20z\"/>\n",
              "  </svg>\n",
              "      </button>\n",
              "      \n",
              "  <style>\n",
              "    .colab-df-container {\n",
              "      display:flex;\n",
              "      flex-wrap:wrap;\n",
              "      gap: 12px;\n",
              "    }\n",
              "\n",
              "    .colab-df-convert {\n",
              "      background-color: #E8F0FE;\n",
              "      border: none;\n",
              "      border-radius: 50%;\n",
              "      cursor: pointer;\n",
              "      display: none;\n",
              "      fill: #1967D2;\n",
              "      height: 32px;\n",
              "      padding: 0 0 0 0;\n",
              "      width: 32px;\n",
              "    }\n",
              "\n",
              "    .colab-df-convert:hover {\n",
              "      background-color: #E2EBFA;\n",
              "      box-shadow: 0px 1px 2px rgba(60, 64, 67, 0.3), 0px 1px 3px 1px rgba(60, 64, 67, 0.15);\n",
              "      fill: #174EA6;\n",
              "    }\n",
              "\n",
              "    [theme=dark] .colab-df-convert {\n",
              "      background-color: #3B4455;\n",
              "      fill: #D2E3FC;\n",
              "    }\n",
              "\n",
              "    [theme=dark] .colab-df-convert:hover {\n",
              "      background-color: #434B5C;\n",
              "      box-shadow: 0px 1px 3px 1px rgba(0, 0, 0, 0.15);\n",
              "      filter: drop-shadow(0px 1px 2px rgba(0, 0, 0, 0.3));\n",
              "      fill: #FFFFFF;\n",
              "    }\n",
              "  </style>\n",
              "\n",
              "      <script>\n",
              "        const buttonEl =\n",
              "          document.querySelector('#df-d949c602-59a4-44b6-a2eb-59d2ab7165e4 button.colab-df-convert');\n",
              "        buttonEl.style.display =\n",
              "          google.colab.kernel.accessAllowed ? 'block' : 'none';\n",
              "\n",
              "        async function convertToInteractive(key) {\n",
              "          const element = document.querySelector('#df-d949c602-59a4-44b6-a2eb-59d2ab7165e4');\n",
              "          const dataTable =\n",
              "            await google.colab.kernel.invokeFunction('convertToInteractive',\n",
              "                                                     [key], {});\n",
              "          if (!dataTable) return;\n",
              "\n",
              "          const docLinkHtml = 'Like what you see? Visit the ' +\n",
              "            '<a target=\"_blank\" href=https://colab.research.google.com/notebooks/data_table.ipynb>data table notebook</a>'\n",
              "            + ' to learn more about interactive tables.';\n",
              "          element.innerHTML = '';\n",
              "          dataTable['output_type'] = 'display_data';\n",
              "          await google.colab.output.renderOutput(dataTable, element);\n",
              "          const docLink = document.createElement('div');\n",
              "          docLink.innerHTML = docLinkHtml;\n",
              "          element.appendChild(docLink);\n",
              "        }\n",
              "      </script>\n",
              "    </div>\n",
              "  </div>\n",
              "  "
            ]
          },
          "metadata": {},
          "execution_count": 5
        }
      ]
    },
    {
      "cell_type": "code",
      "source": [
        "desc=digitsData.describe()\n",
        "print(desc)"
      ],
      "metadata": {
        "colab": {
          "base_uri": "https://localhost:8080/"
        },
        "id": "wUtfLo8NHrGs",
        "outputId": "8c9ada70-1198-496e-ed35-9c1ee38c8845"
      },
      "execution_count": 6,
      "outputs": [
        {
          "output_type": "stream",
          "name": "stdout",
          "text": [
            "       pixel1  pixel2  pixel3  pixel4  pixel5  pixel6  pixel7  pixel8  pixel9  \\\n",
            "count   100.0   100.0   100.0   100.0   100.0   100.0   100.0   100.0   100.0   \n",
            "mean      0.0     0.0     0.0     0.0     0.0     0.0     0.0     0.0     0.0   \n",
            "std       0.0     0.0     0.0     0.0     0.0     0.0     0.0     0.0     0.0   \n",
            "min       0.0     0.0     0.0     0.0     0.0     0.0     0.0     0.0     0.0   \n",
            "25%       0.0     0.0     0.0     0.0     0.0     0.0     0.0     0.0     0.0   \n",
            "50%       0.0     0.0     0.0     0.0     0.0     0.0     0.0     0.0     0.0   \n",
            "75%       0.0     0.0     0.0     0.0     0.0     0.0     0.0     0.0     0.0   \n",
            "max       0.0     0.0     0.0     0.0     0.0     0.0     0.0     0.0     0.0   \n",
            "\n",
            "       pixel10  ...  pixel775  pixel776  pixel777  pixel778  pixel779  \\\n",
            "count    100.0  ...     100.0     100.0     100.0     100.0     100.0   \n",
            "mean       0.0  ...       0.0       0.0       0.0       0.0       0.0   \n",
            "std        0.0  ...       0.0       0.0       0.0       0.0       0.0   \n",
            "min        0.0  ...       0.0       0.0       0.0       0.0       0.0   \n",
            "25%        0.0  ...       0.0       0.0       0.0       0.0       0.0   \n",
            "50%        0.0  ...       0.0       0.0       0.0       0.0       0.0   \n",
            "75%        0.0  ...       0.0       0.0       0.0       0.0       0.0   \n",
            "max        0.0  ...       0.0       0.0       0.0       0.0       0.0   \n",
            "\n",
            "       pixel780  pixel781  pixel782  pixel783  pixel784  \n",
            "count     100.0     100.0     100.0     100.0     100.0  \n",
            "mean        0.0       0.0       0.0       0.0       0.0  \n",
            "std         0.0       0.0       0.0       0.0       0.0  \n",
            "min         0.0       0.0       0.0       0.0       0.0  \n",
            "25%         0.0       0.0       0.0       0.0       0.0  \n",
            "50%         0.0       0.0       0.0       0.0       0.0  \n",
            "75%         0.0       0.0       0.0       0.0       0.0  \n",
            "max         0.0       0.0       0.0       0.0       0.0  \n",
            "\n",
            "[8 rows x 784 columns]\n"
          ]
        }
      ]
    },
    {
      "cell_type": "code",
      "source": [
        "desc=digitsData.describe()\n",
        "\n",
        "print(digitsData.shape)\n",
        "\n",
        "import matplotlib.pyplot as plt\n",
        "\n",
        "\n",
        "\n",
        "#Plot first image\n",
        "i=0\n",
        "print(digitsData.iloc[i].values.shape)\n",
        "original_image = digitsData.iloc[i].values.reshape([28,28])\n",
        "plt.imshow(original_image, cmap='gray_r')\n",
        "plt.title(\"original_image: Digit \" + target[i], fontsize=15, pad=15)\n",
        "plt.savefig(\"original_image image.png\")\n"
      ],
      "metadata": {
        "colab": {
          "base_uri": "https://localhost:8080/",
          "height": 328
        },
        "id": "2UPgS-RVSC4a",
        "outputId": "00825ab3-4871-4b57-a58f-b229a374d78f"
      },
      "execution_count": 7,
      "outputs": [
        {
          "output_type": "stream",
          "name": "stdout",
          "text": [
            "(100, 784)\n",
            "(784,)\n"
          ]
        },
        {
          "output_type": "display_data",
          "data": {
            "text/plain": [
              "<Figure size 432x288 with 1 Axes>"
            ],
            "image/png": "[encoded data removed]"
          },
          "metadata": {
            "needs_background": "light"
          }
        }
      ]
    },
    {
      "cell_type": "code",
      "source": [
        "\n",
        "#No scaling required as all values in same scale\n",
        "print(digitsData.iloc[1].min())\n",
        "print(digitsData.iloc[1].max())\n"
      ],
      "metadata": {
        "colab": {
          "base_uri": "https://localhost:8080/"
        },
        "id": "zqvrvQyDhdJC",
        "outputId": "8132f6b5-d107-489c-8240-5faaf017d353"
      },
      "execution_count": 8,
      "outputs": [
        {
          "output_type": "stream",
          "name": "stdout",
          "text": [
            "0.0\n",
            "255.0\n"
          ]
        }
      ]
    },
    {
      "cell_type": "code",
      "source": [
        "numComponents=60\n",
        "pca = PCA(n_components=numComponents)\n",
        "mnist_new_features = pca.fit_transform(digitsData)\n",
        "\n",
        "#print(mnist_new_features.shape)\n",
        "#print(mnist_new_features)\n",
        "#print(type(mnist_new_features))\n",
        "mnist_reduced_recovered_image = pca.inverse_transform(mnist_new_features)\n",
        "\n",
        "image_reduced = mnist_reduced_recovered_image[i,:].reshape([28,28])\n",
        "plt.figure(0)\n",
        "plt.imshow(image_reduced, cmap='gray_r')\n",
        "plt.title('Compressed image with ' + str(numComponents) +' components', fontsize=15, pad=15)\n",
        "#plt.savefig(\"images/reduced_image_with_\" + str(numComponents) + \"_pca_components.png\")\n",
        "plt.savefig(\"reduced_image_with_\" + str(numComponents) + \"_pca_components.png\")\n",
        "np.cumsum(pca.explained_variance_ratio_ * 100)[-1]\n",
        "cumulativevariance=np.cumsum(pca.explained_variance_ratio_*100)\n",
        "plt.figure(1)\n",
        "plt.plot(cumulativevariance)\n",
        "plt.xlabel('number of components')\n",
        "plt.ylabel('variance')\n"
      ],
      "metadata": {
        "colab": {
          "base_uri": "https://localhost:8080/",
          "height": 575
        },
        "id": "1dQlxrCvhhij",
        "outputId": "0bd4f50c-9059-4ed3-c692-8587e77bd5d9"
      },
      "execution_count": 18,
      "outputs": [
        {
          "output_type": "execute_result",
          "data": {
            "text/plain": [
              "Text(0, 0.5, 'variance')"
            ]
          },
          "metadata": {},
          "execution_count": 18
        },
        {
          "output_type": "display_data",
          "data": {
            "text/plain": [
              "<Figure size 432x288 with 1 Axes>"
            ],
            "image/png": "[encoded data removed]"
          },
          "metadata": {
            "needs_background": "light"
          }
        },
        {
          "output_type": "display_data",
          "data": {
            "text/plain": [
              "<Figure size 432x288 with 1 Axes>"
            ],
            "image/png": "[encoded data removed]"
          },
          "metadata": {
            "needs_background": "light"
          }
        }
      ]
    },
    {
      "cell_type": "code",
      "source": [
        "df1=pd.DataFrame(mnist_new_features)\n",
        "df1.head()\n",
        "\n",
        "desc=df1.describe()\n",
        "print(desc)\n",
        "\n",
        "\n",
        "\n",
        "\n",
        "\n",
        "\n",
        "\n",
        "\n"
      ],
      "metadata": {
        "colab": {
          "base_uri": "https://localhost:8080/"
        },
        "id": "_iocU5kS9qEj",
        "outputId": "bd98871a-caa8-4884-a55c-51d0c20af2da"
      },
      "execution_count": 10,
      "outputs": [
        {
          "output_type": "stream",
          "name": "stdout",
          "text": [
            "                 0             1             2             3             4   \\\n",
            "count  1.000000e+02  1.000000e+02  1.000000e+02  1.000000e+02  1.000000e+02   \n",
            "mean   7.617018e-14 -1.250555e-14 -1.324452e-13 -3.154810e-14  7.787548e-14   \n",
            "std    6.660491e+02  5.116718e+02  4.924304e+02  4.739857e+02  4.167841e+02   \n",
            "min   -9.088630e+02 -1.044248e+03 -9.125426e+02 -8.738673e+02 -8.436267e+02   \n",
            "25%   -5.636989e+02 -3.193785e+02 -3.585628e+02 -3.246417e+02 -3.024862e+02   \n",
            "50%   -1.350736e+02 -3.977772e+01 -5.245325e+01 -5.258952e+01 -2.122688e-01   \n",
            "75%    3.193674e+02  3.453945e+02  3.138463e+02  3.309972e+02  2.572756e+02   \n",
            "max    1.643322e+03  1.335523e+03  1.135010e+03  1.198639e+03  8.805235e+02   \n",
            "\n",
            "                 5             6             7             8             9   \\\n",
            "count  1.000000e+02  1.000000e+02  1.000000e+02  1.000000e+02  1.000000e+02   \n",
            "mean  -6.561862e-14 -1.477929e-14  4.177991e-14  9.094947e-15  1.790568e-14   \n",
            "std    3.960680e+02  3.495432e+02  3.189113e+02  3.059750e+02  2.859976e+02   \n",
            "min   -6.862783e+02 -7.376648e+02 -7.574006e+02 -6.440035e+02 -7.179005e+02   \n",
            "25%   -2.999328e+02 -2.601930e+02 -1.895441e+02 -2.330401e+02 -1.783052e+02   \n",
            "50%   -1.743466e+01 -2.478023e+00  3.185896e+01  7.396356e+01  1.647172e+01   \n",
            "75%    1.845557e+02  2.795184e+02  1.627047e+02  2.062653e+02  1.694890e+02   \n",
            "max    1.485748e+03  7.650856e+02  9.799049e+02  8.928392e+02  7.235824e+02   \n",
            "\n",
            "       ...            50            51            52            53  \\\n",
            "count  ...  1.000000e+02  1.000000e+02  1.000000e+02  1.000000e+02   \n",
            "mean   ...  3.410605e-15 -1.037392e-14  4.625633e-14 -1.492140e-15   \n",
            "std    ...  9.431079e+01  9.366248e+01  9.273455e+01  8.680868e+01   \n",
            "min    ... -2.092794e+02 -2.116437e+02 -2.255777e+02 -1.768802e+02   \n",
            "25%    ... -6.437777e+01 -6.336515e+01 -6.404706e+01 -6.281278e+01   \n",
            "50%    ... -7.346135e+00  5.524052e+00  1.809038e+00 -4.777214e+00   \n",
            "75%    ...  4.840948e+01  6.121614e+01  6.427238e+01  5.620991e+01   \n",
            "max    ...  3.031515e+02  2.381775e+02  2.387363e+02  2.599120e+02   \n",
            "\n",
            "                 54            55            56            57            58  \\\n",
            "count  1.000000e+02  1.000000e+02  1.000000e+02  1.000000e+02  1.000000e+02   \n",
            "mean  -2.242206e-14  7.354117e-15  1.016076e-14  2.984279e-15  1.827871e-14   \n",
            "std    8.548239e+01  8.386461e+01  8.171892e+01  8.137204e+01  7.952627e+01   \n",
            "min   -1.760079e+02 -1.887749e+02 -1.996700e+02 -1.872570e+02 -2.000621e+02   \n",
            "25%   -6.856838e+01 -6.479523e+01 -5.364471e+01 -5.058936e+01 -5.724038e+01   \n",
            "50%    5.080388e+00 -4.462696e+00 -3.640625e+00  4.399895e+00 -5.718475e+00   \n",
            "75%    5.598791e+01  5.391529e+01  4.632972e+01  4.923802e+01  5.472691e+01   \n",
            "max    2.336928e+02  2.356190e+02  2.467207e+02  1.947799e+02  2.170693e+02   \n",
            "\n",
            "                 59  \n",
            "count  1.000000e+02  \n",
            "mean  -9.201528e-15  \n",
            "std    7.861026e+01  \n",
            "min   -2.098779e+02  \n",
            "25%   -5.317492e+01  \n",
            "50%    5.437672e+00  \n",
            "75%    4.542992e+01  \n",
            "max    2.256590e+02  \n",
            "\n",
            "[8 rows x 60 columns]\n"
          ]
        }
      ]
    },
    {
      "cell_type": "code",
      "source": [
        "numComponents=40\n",
        "pca = PCA(n_components=numComponents)\n",
        "mnist_new_features = pca.fit_transform(digitsData)\n",
        "\n",
        "#print(mnist_new_features.shape)\n",
        "#print(mnist_new_features)\n",
        "#print(type(mnist_new_features))\n",
        "mnist_reduced_recovered_image = pca.inverse_transform(mnist_new_features)\n",
        "\n",
        "image_reduced = mnist_reduced_recovered_image[i,:].reshape([28,28])\n",
        "plt.figure(0)\n",
        "plt.imshow(image_reduced, cmap='gray_r')\n",
        "plt.title('Compressed image with ' + str(numComponents) +' components', fontsize=15, pad=15)\n",
        "#plt.savefig(\"images/reduced_image_with_\" + str(numComponents) + \"_pca_components.png\")\n",
        "plt.savefig(\"reduced_image_with_\" + str(numComponents) + \"_pca_components.png\")\n",
        "np.cumsum(pca.explained_variance_ratio_ * 100)[-1]\n",
        "cumulativevariance=np.cumsum(pca.explained_variance_ratio_*100)\n",
        "plt.figure(1)\n",
        "plt.plot(cumulativevariance)\n",
        "plt.xlabel('number of components')\n",
        "plt.ylabel('variance')\n"
      ],
      "metadata": {
        "colab": {
          "base_uri": "https://localhost:8080/",
          "height": 572
        },
        "id": "uZMIGcjycHqf",
        "outputId": "dc6c38e3-7e81-48fe-c5d8-30f32d2dad07"
      },
      "execution_count": 20,
      "outputs": [
        {
          "output_type": "execute_result",
          "data": {
            "text/plain": [
              "Text(0, 0.5, 'variance')"
            ]
          },
          "metadata": {},
          "execution_count": 20
        },
        {
          "output_type": "display_data",
          "data": {
            "text/plain": [
              "<Figure size 432x288 with 1 Axes>"
            ],
            "image/png": "[encoded data removed]"
          },
          "metadata": {
            "needs_background": "light"
          }
        },
        {
          "output_type": "display_data",
          "data": {
            "text/plain": [
              "<Figure size 432x288 with 1 Axes>"
            ],
            "image/png": "[encoded data removed]"
          },
          "metadata": {
            "needs_background": "light"
          }
        }
      ]
    },
    {
      "cell_type": "code",
      "source": [
        "numComponents=50\n",
        "pca = PCA(n_components=numComponents)\n",
        "mnist_new_features = pca.fit_transform(digitsData)\n",
        "\n",
        "#print(mnist_new_features.shape)\n",
        "#print(mnist_new_features)\n",
        "#print(type(mnist_new_features))\n",
        "mnist_reduced_recovered_image = pca.inverse_transform(mnist_new_features)\n",
        "\n",
        "image_reduced = mnist_reduced_recovered_image[i,:].reshape([28,28])\n",
        "plt.figure(0)\n",
        "plt.imshow(image_reduced, cmap='gray_r')\n",
        "plt.title('Compressed image with ' + str(numComponents) +' components', fontsize=15, pad=15)\n",
        "#plt.savefig(\"images/reduced_image_with_\" + str(numComponents) + \"_pca_components.png\")\n",
        "plt.savefig(\"reduced_image_with_\" + str(numComponents) + \"_pca_components.png\")\n",
        "np.cumsum(pca.explained_variance_ratio_ * 100)[-1]\n",
        "cumulativevariance=np.cumsum(pca.explained_variance_ratio_*100)\n",
        "plt.figure(1)\n",
        "plt.plot(cumulativevariance)\n",
        "plt.xlabel('number of components')\n",
        "plt.ylabel('variance')\n"
      ],
      "metadata": {
        "colab": {
          "base_uri": "https://localhost:8080/",
          "height": 572
        },
        "id": "-b_RPKK7cNte",
        "outputId": "5b87cf47-96a6-47d2-ef6a-cd0185a59086"
      },
      "execution_count": 21,
      "outputs": [
        {
          "output_type": "execute_result",
          "data": {
            "text/plain": [
              "Text(0, 0.5, 'variance')"
            ]
          },
          "metadata": {},
          "execution_count": 21
        },
        {
          "output_type": "display_data",
          "data": {
            "text/plain": [
              "<Figure size 432x288 with 1 Axes>"
            ],
            "image/png": "[encoded data removed]"
          },
          "metadata": {
            "needs_background": "light"
          }
        },
        {
          "output_type": "display_data",
          "data": {
            "text/plain": [
              "<Figure size 432x288 with 1 Axes>"
            ],
            "image/png": "[encoded data removed]"
          },
          "metadata": {
            "needs_background": "light"
          }
        }
      ]
    },
    {
      "cell_type": "code",
      "source": [
        "numComponents=80\n",
        "pca = PCA(n_components=numComponents)\n",
        "mnist_new_features = pca.fit_transform(digitsData)\n",
        "\n",
        "#print(mnist_new_features.shape)\n",
        "#print(mnist_new_features)\n",
        "#print(type(mnist_new_features))\n",
        "mnist_reduced_recovered_image = pca.inverse_transform(mnist_new_features)\n",
        "\n",
        "image_reduced = mnist_reduced_recovered_image[i,:].reshape([28,28])\n",
        "plt.figure(0)\n",
        "plt.imshow(image_reduced, cmap='gray_r')\n",
        "plt.title('Compressed image with ' + str(numComponents) +' components', fontsize=15, pad=15)\n",
        "#plt.savefig(\"images/reduced_image_with_\" + str(numComponents) + \"_pca_components.png\")\n",
        "plt.savefig(\"reduced_image_with_\" + str(numComponents) + \"_pca_components.png\")\n",
        "np.cumsum(pca.explained_variance_ratio_ * 100)[-1]\n",
        "cumulativevariance=np.cumsum(pca.explained_variance_ratio_*100)\n",
        "plt.figure(1)\n",
        "plt.plot(cumulativevariance)\n",
        "plt.xlabel('number of components')\n",
        "plt.ylabel('variance')\n"
      ],
      "metadata": {
        "colab": {
          "base_uri": "https://localhost:8080/",
          "height": 572
        },
        "id": "IPAQG28GcPlP",
        "outputId": "494c1dd0-28ef-4959-a17e-3f90bb8ae477"
      },
      "execution_count": 22,
      "outputs": [
        {
          "output_type": "execute_result",
          "data": {
            "text/plain": [
              "Text(0, 0.5, 'variance')"
            ]
          },
          "metadata": {},
          "execution_count": 22
        },
        {
          "output_type": "display_data",
          "data": {
            "text/plain": [
              "<Figure size 432x288 with 1 Axes>"
            ],
            "image/png": "[encoded data removed]"
          },
          "metadata": {
            "needs_background": "light"
          }
        },
        {
          "output_type": "display_data",
          "data": {
            "text/plain": [
              "<Figure size 432x288 with 1 Axes>"
            ],
            "image/png": "[encoded data removed]"
          },
          "metadata": {
            "needs_background": "light"
          }
        }
      ]
    }
  ]
}